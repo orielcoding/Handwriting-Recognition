{
  "nbformat": 4,
  "nbformat_minor": 0,
  "metadata": {
    "colab": {
      "provenance": []
    },
    "kernelspec": {
      "name": "python3",
      "display_name": "Python 3"
    },
    "language_info": {
      "name": "python"
    },
    "widgets": {
      "application/vnd.jupyter.widget-state+json": {
        "a7373928d88d4e6d816c9552e88f41f6": {
          "model_module": "@jupyter-widgets/controls",
          "model_name": "HBoxModel",
          "model_module_version": "1.5.0",
          "state": {
            "_dom_classes": [],
            "_model_module": "@jupyter-widgets/controls",
            "_model_module_version": "1.5.0",
            "_model_name": "HBoxModel",
            "_view_count": null,
            "_view_module": "@jupyter-widgets/controls",
            "_view_module_version": "1.5.0",
            "_view_name": "HBoxView",
            "box_style": "",
            "children": [
              "IPY_MODEL_66f28e69e433469dbb39c33964a8bfd5",
              "IPY_MODEL_9092dbc62a7447898e494ff47bc846ca",
              "IPY_MODEL_59a9f05f49e141ac881aef06a6ee2c00"
            ],
            "layout": "IPY_MODEL_20843426b0024e1f87a7842b4e549d19"
          }
        },
        "66f28e69e433469dbb39c33964a8bfd5": {
          "model_module": "@jupyter-widgets/controls",
          "model_name": "HTMLModel",
          "model_module_version": "1.5.0",
          "state": {
            "_dom_classes": [],
            "_model_module": "@jupyter-widgets/controls",
            "_model_module_version": "1.5.0",
            "_model_name": "HTMLModel",
            "_view_count": null,
            "_view_module": "@jupyter-widgets/controls",
            "_view_module_version": "1.5.0",
            "_view_name": "HTMLView",
            "description": "",
            "description_tooltip": null,
            "layout": "IPY_MODEL_d917961ca1fd48b1babf8199803ef6cb",
            "placeholder": "​",
            "style": "IPY_MODEL_5491b73b5eb74f98a621923001e5d4e8",
            "value": "Map:  83%"
          }
        },
        "9092dbc62a7447898e494ff47bc846ca": {
          "model_module": "@jupyter-widgets/controls",
          "model_name": "FloatProgressModel",
          "model_module_version": "1.5.0",
          "state": {
            "_dom_classes": [],
            "_model_module": "@jupyter-widgets/controls",
            "_model_module_version": "1.5.0",
            "_model_name": "FloatProgressModel",
            "_view_count": null,
            "_view_module": "@jupyter-widgets/controls",
            "_view_module_version": "1.5.0",
            "_view_name": "ProgressView",
            "bar_style": "",
            "description": "",
            "description_tooltip": null,
            "layout": "IPY_MODEL_6d73abe12ec249d0b31d70c16f97c38c",
            "max": 500,
            "min": 0,
            "orientation": "horizontal",
            "style": "IPY_MODEL_35eff72f29eb41ebb100e108825c9e1c",
            "value": 500
          }
        },
        "59a9f05f49e141ac881aef06a6ee2c00": {
          "model_module": "@jupyter-widgets/controls",
          "model_name": "HTMLModel",
          "model_module_version": "1.5.0",
          "state": {
            "_dom_classes": [],
            "_model_module": "@jupyter-widgets/controls",
            "_model_module_version": "1.5.0",
            "_model_name": "HTMLModel",
            "_view_count": null,
            "_view_module": "@jupyter-widgets/controls",
            "_view_module_version": "1.5.0",
            "_view_name": "HTMLView",
            "description": "",
            "description_tooltip": null,
            "layout": "IPY_MODEL_25a0590aa07c4115b750d05c15dc0355",
            "placeholder": "​",
            "style": "IPY_MODEL_0718f04ecc984ae89c502b05d45d4944",
            "value": " 415/500 [00:00&lt;00:00, 1289.57 examples/s]"
          }
        },
        "20843426b0024e1f87a7842b4e549d19": {
          "model_module": "@jupyter-widgets/base",
          "model_name": "LayoutModel",
          "model_module_version": "1.2.0",
          "state": {
            "_model_module": "@jupyter-widgets/base",
            "_model_module_version": "1.2.0",
            "_model_name": "LayoutModel",
            "_view_count": null,
            "_view_module": "@jupyter-widgets/base",
            "_view_module_version": "1.2.0",
            "_view_name": "LayoutView",
            "align_content": null,
            "align_items": null,
            "align_self": null,
            "border": null,
            "bottom": null,
            "display": null,
            "flex": null,
            "flex_flow": null,
            "grid_area": null,
            "grid_auto_columns": null,
            "grid_auto_flow": null,
            "grid_auto_rows": null,
            "grid_column": null,
            "grid_gap": null,
            "grid_row": null,
            "grid_template_areas": null,
            "grid_template_columns": null,
            "grid_template_rows": null,
            "height": null,
            "justify_content": null,
            "justify_items": null,
            "left": null,
            "margin": null,
            "max_height": null,
            "max_width": null,
            "min_height": null,
            "min_width": null,
            "object_fit": null,
            "object_position": null,
            "order": null,
            "overflow": null,
            "overflow_x": null,
            "overflow_y": null,
            "padding": null,
            "right": null,
            "top": null,
            "visibility": "hidden",
            "width": null
          }
        },
        "d917961ca1fd48b1babf8199803ef6cb": {
          "model_module": "@jupyter-widgets/base",
          "model_name": "LayoutModel",
          "model_module_version": "1.2.0",
          "state": {
            "_model_module": "@jupyter-widgets/base",
            "_model_module_version": "1.2.0",
            "_model_name": "LayoutModel",
            "_view_count": null,
            "_view_module": "@jupyter-widgets/base",
            "_view_module_version": "1.2.0",
            "_view_name": "LayoutView",
            "align_content": null,
            "align_items": null,
            "align_self": null,
            "border": null,
            "bottom": null,
            "display": null,
            "flex": null,
            "flex_flow": null,
            "grid_area": null,
            "grid_auto_columns": null,
            "grid_auto_flow": null,
            "grid_auto_rows": null,
            "grid_column": null,
            "grid_gap": null,
            "grid_row": null,
            "grid_template_areas": null,
            "grid_template_columns": null,
            "grid_template_rows": null,
            "height": null,
            "justify_content": null,
            "justify_items": null,
            "left": null,
            "margin": null,
            "max_height": null,
            "max_width": null,
            "min_height": null,
            "min_width": null,
            "object_fit": null,
            "object_position": null,
            "order": null,
            "overflow": null,
            "overflow_x": null,
            "overflow_y": null,
            "padding": null,
            "right": null,
            "top": null,
            "visibility": null,
            "width": null
          }
        },
        "5491b73b5eb74f98a621923001e5d4e8": {
          "model_module": "@jupyter-widgets/controls",
          "model_name": "DescriptionStyleModel",
          "model_module_version": "1.5.0",
          "state": {
            "_model_module": "@jupyter-widgets/controls",
            "_model_module_version": "1.5.0",
            "_model_name": "DescriptionStyleModel",
            "_view_count": null,
            "_view_module": "@jupyter-widgets/base",
            "_view_module_version": "1.2.0",
            "_view_name": "StyleView",
            "description_width": ""
          }
        },
        "6d73abe12ec249d0b31d70c16f97c38c": {
          "model_module": "@jupyter-widgets/base",
          "model_name": "LayoutModel",
          "model_module_version": "1.2.0",
          "state": {
            "_model_module": "@jupyter-widgets/base",
            "_model_module_version": "1.2.0",
            "_model_name": "LayoutModel",
            "_view_count": null,
            "_view_module": "@jupyter-widgets/base",
            "_view_module_version": "1.2.0",
            "_view_name": "LayoutView",
            "align_content": null,
            "align_items": null,
            "align_self": null,
            "border": null,
            "bottom": null,
            "display": null,
            "flex": null,
            "flex_flow": null,
            "grid_area": null,
            "grid_auto_columns": null,
            "grid_auto_flow": null,
            "grid_auto_rows": null,
            "grid_column": null,
            "grid_gap": null,
            "grid_row": null,
            "grid_template_areas": null,
            "grid_template_columns": null,
            "grid_template_rows": null,
            "height": null,
            "justify_content": null,
            "justify_items": null,
            "left": null,
            "margin": null,
            "max_height": null,
            "max_width": null,
            "min_height": null,
            "min_width": null,
            "object_fit": null,
            "object_position": null,
            "order": null,
            "overflow": null,
            "overflow_x": null,
            "overflow_y": null,
            "padding": null,
            "right": null,
            "top": null,
            "visibility": null,
            "width": null
          }
        },
        "35eff72f29eb41ebb100e108825c9e1c": {
          "model_module": "@jupyter-widgets/controls",
          "model_name": "ProgressStyleModel",
          "model_module_version": "1.5.0",
          "state": {
            "_model_module": "@jupyter-widgets/controls",
            "_model_module_version": "1.5.0",
            "_model_name": "ProgressStyleModel",
            "_view_count": null,
            "_view_module": "@jupyter-widgets/base",
            "_view_module_version": "1.2.0",
            "_view_name": "StyleView",
            "bar_color": null,
            "description_width": ""
          }
        },
        "25a0590aa07c4115b750d05c15dc0355": {
          "model_module": "@jupyter-widgets/base",
          "model_name": "LayoutModel",
          "model_module_version": "1.2.0",
          "state": {
            "_model_module": "@jupyter-widgets/base",
            "_model_module_version": "1.2.0",
            "_model_name": "LayoutModel",
            "_view_count": null,
            "_view_module": "@jupyter-widgets/base",
            "_view_module_version": "1.2.0",
            "_view_name": "LayoutView",
            "align_content": null,
            "align_items": null,
            "align_self": null,
            "border": null,
            "bottom": null,
            "display": null,
            "flex": null,
            "flex_flow": null,
            "grid_area": null,
            "grid_auto_columns": null,
            "grid_auto_flow": null,
            "grid_auto_rows": null,
            "grid_column": null,
            "grid_gap": null,
            "grid_row": null,
            "grid_template_areas": null,
            "grid_template_columns": null,
            "grid_template_rows": null,
            "height": null,
            "justify_content": null,
            "justify_items": null,
            "left": null,
            "margin": null,
            "max_height": null,
            "max_width": null,
            "min_height": null,
            "min_width": null,
            "object_fit": null,
            "object_position": null,
            "order": null,
            "overflow": null,
            "overflow_x": null,
            "overflow_y": null,
            "padding": null,
            "right": null,
            "top": null,
            "visibility": null,
            "width": null
          }
        },
        "0718f04ecc984ae89c502b05d45d4944": {
          "model_module": "@jupyter-widgets/controls",
          "model_name": "DescriptionStyleModel",
          "model_module_version": "1.5.0",
          "state": {
            "_model_module": "@jupyter-widgets/controls",
            "_model_module_version": "1.5.0",
            "_model_name": "DescriptionStyleModel",
            "_view_count": null,
            "_view_module": "@jupyter-widgets/base",
            "_view_module_version": "1.2.0",
            "_view_name": "StyleView",
            "description_width": ""
          }
        }
      }
    }
  },
  "cells": [
    {
      "cell_type": "markdown",
      "source": [
        "Sources:\n",
        "  - https://www.philschmid.de/fine-tuning-donut\n",
        "  - https://github.com/clovaai/donut/blob/master/README.md\n",
        "  - https://huggingface.co/docs/transformers/model_doc/donut"
      ],
      "metadata": {
        "id": "kqfaq1Hsaum0"
      }
    },
    {
      "cell_type": "markdown",
      "source": [
        "# Imports"
      ],
      "metadata": {
        "id": "SfA6ct8ZYxKq"
      }
    },
    {
      "cell_type": "code",
      "execution_count": 66,
      "metadata": {
        "id": "2RUQuhFOR8g6"
      },
      "outputs": [],
      "source": [
        "# First execution of the runtime:\n",
        "# !pip install datasets\n",
        "# ! unzip /content/test_bw.zip"
      ]
    },
    {
      "cell_type": "markdown",
      "source": [
        "# Data"
      ],
      "metadata": {
        "id": "8AhHCvmBnmNk"
      }
    },
    {
      "cell_type": "markdown",
      "source": [
        "## Imports and configuration"
      ],
      "metadata": {
        "id": "KRIGNKe4oDq3"
      }
    },
    {
      "cell_type": "code",
      "source": [
        "import os\n",
        "import json\n",
        "from pathlib import Path\n",
        "import shutil\n",
        "from PIL import Image\n",
        "from datasets import DatasetDict, Features, Dataset\n",
        "import numpy as np\n",
        "\n",
        "import random\n",
        "\n",
        "import matplotlib.pyplot as plt\n",
        "\n",
        "\n",
        "# define paths\n",
        "base_path = Path(\"/content/\")\n",
        "label_path = base_path.joinpath(\"labels_500_bw.csv\")\n",
        "image_folder_path = base_path.joinpath(\"test_bw/\")\n",
        "extension = '.png'\n",
        "\n",
        "labels_json = \"labels.json\"\n",
        "labels_json_path = base_path.joinpath(labels_json)"
      ],
      "metadata": {
        "id": "fy-Tax8Xn9FY"
      },
      "execution_count": 67,
      "outputs": []
    },
    {
      "cell_type": "markdown",
      "source": [
        "## Labels  \n",
        "Goal is to create a labels.json file that contains the information about the images including the OCR-text. This is necessary for the imagefolder feature of datasets.\n",
        "\n",
        "The metadata.json should look at the end similar to the example below.  \n",
        "`{\"file_name\": \"0001.png\", \"text\": \"This is a golden retriever playing with a ball\"}`   \n",
        "`{\"file_name\": \"0002.png\", \"text\": \"A german shepherd\"}`"
      ],
      "metadata": {
        "id": "PKWfaSg1ZQng"
      }
    },
    {
      "cell_type": "code",
      "source": [
        "\n",
        "# define metadata list\n",
        "labels_list = []\n",
        "\n",
        "# Read csv and get labels\n",
        "with open(label_path, \"r\") as label_csv:\n",
        "  for no_line, line in enumerate(label_csv.readlines()):\n",
        "    text = line.rstrip('\\n').split('\\t')\n",
        "    # extract file name\n",
        "    file_id = text[0]\n",
        "    file_name = file_id + extension\n",
        "    # sparse label\n",
        "    label = text[1]\n",
        "\n",
        "    # building json file\n",
        "    sample = dict()\n",
        "    sample['file_name'] = file_name\n",
        "    sample['label'] = label\n",
        "    labels_list.append(sample)\n",
        "\n",
        "# Save data to a JSON file\n",
        "with open(labels_json, \"w\") as file:\n",
        "    json.dump(labels_list, file)\n"
      ],
      "metadata": {
        "id": "9xTpaGwJcZZJ"
      },
      "execution_count": 68,
      "outputs": []
    },
    {
      "cell_type": "markdown",
      "source": [
        "## Images\n",
        "Goal is to create a dataset object similar to the one used in the tutorial and that was downloaded from hugging face directly"
      ],
      "metadata": {
        "id": "7_H3VfDynLMu"
      }
    },
    {
      "cell_type": "code",
      "source": [
        "# Load JSON file\n",
        "with open(labels_json_path, \"r\") as f:\n",
        "    labels = json.load(f)\n",
        "\n",
        "# Extract file names and labels\n",
        "file_names = [sample[\"file_name\"] for sample in labels]\n",
        "text = [text[\"label\"] for text in labels]\n",
        "\n",
        "# Load images and convert to numpy arrays\n",
        "images = []\n",
        "for file_name in file_names:\n",
        "    image_path = image_folder_path.joinpath(file_name)\n",
        "    image = Image.open(image_path)\n",
        "    # image = np.array(image)\n",
        "    images.append(image)\n",
        "\n",
        "# Define dataset features\n",
        "features = Features({\n",
        "    \"image\": images,\n",
        "    \"label\": text,\n",
        "    })\n",
        "\n",
        "# Create a DatasetDict object\n",
        "dataset = Dataset.from_dict(features)"
      ],
      "metadata": {
        "id": "fChV1dEolpex"
      },
      "execution_count": 69,
      "outputs": []
    },
    {
      "cell_type": "code",
      "source": [
        "def show_random_sample(dataset):\n",
        "  \"\"\"\n",
        "  Function to display a random sample of the dataset: plot the image and its label\n",
        "  \"\"\"\n",
        "  random_sample = random.randint(0, len(dataset))\n",
        "  print(f\"Random sample is {random_sample}\")\n",
        "  print(f\"OCR text is: {dataset[random_sample]['label']}\")\n",
        "\n",
        "  plt.imshow(dataset[random_sample]['image'], cmap='gray')\n",
        "  plt.show()"
      ],
      "metadata": {
        "id": "4hdqi5Ar1C45"
      },
      "execution_count": 70,
      "outputs": []
    },
    {
      "cell_type": "code",
      "source": [
        "# Print dataset information\n",
        "print(f\"Dataset has {len(dataset)} samples\")\n",
        "print(f\"Dataset features are: {dataset.features }\")\n",
        "\n",
        "# Display a random sample from the dataset\n",
        "show_random_sample(dataset)\n",
        "\n",
        "\n",
        "\n"
      ],
      "metadata": {
        "colab": {
          "base_uri": "https://localhost:8080/",
          "height": 198
        },
        "id": "uKJmgubklpTj",
        "outputId": "5c88dff0-e204-4447-9db1-1bbd722a4181"
      },
      "execution_count": 71,
      "outputs": [
        {
          "output_type": "stream",
          "name": "stdout",
          "text": [
            "Dataset has 500 samples\n",
            "Dataset features are: {'image': Image(decode=True, id=None), 'label': Value(dtype='string', id=None)}\n",
            "Random sample is 69\n",
            "OCR text is: prevent civil war , it was clear that new dangers\n"
          ]
        },
        {
          "output_type": "display_data",
          "data": {
            "text/plain": [
              "<Figure size 640x480 with 1 Axes>"
            ],
            "image/png": "[encoded data removed]"
          },
          "metadata": {}
        }
      ]
    },
    {
      "cell_type": "markdown",
      "source": [
        "## Splitting ??"
      ],
      "metadata": {
        "id": "g3ERGTXD0n4S"
      }
    },
    {
      "cell_type": "markdown",
      "source": [
        "## Preprocessing of the data to feed model\n",
        "\n",
        "Donut is a sequence-to-sequence model with a vision encoder and text decoder. When fine-tuning the model we want it to generate the \"text\" based on the image we pass it. Similar to NLP tasks, we have to tokenize and preprocess the text. Before we can tokenize the text, we need to transform the JSON string into a Donut compatible document.\n"
      ],
      "metadata": {
        "id": "PtVGbzpr0UmW"
      }
    },
    {
      "cell_type": "code",
      "source": [
        "new_special_tokens = [] # new tokens which will be added to the tokenizer\n",
        "task_start_token = \"<s>\"  # start of task token\n",
        "eos_token = \"</s>\" # eos token of tokenizer\n",
        "\n",
        "def json2token(obj, update_special_tokens_for_json_key: bool = True, sort_json_key: bool = True):\n",
        "    \"\"\"\n",
        "    Convert an ordered JSON object into a token sequence\n",
        "    \"\"\"\n",
        "    if type(obj) == dict:\n",
        "        if len(obj) == 1 and \"text_sequence\" in obj:\n",
        "            return obj[\"text_sequence\"]\n",
        "        else:\n",
        "            output = \"\"\n",
        "            if sort_json_key:\n",
        "                keys = sorted(obj.keys(), reverse=True)\n",
        "            else:\n",
        "                keys = obj.keys()\n",
        "            for k in keys:\n",
        "                if update_special_tokens_for_json_key:\n",
        "                    new_special_tokens.append(fr\"<s_{k}>\") if fr\"<s_{k}>\" not in new_special_tokens else None\n",
        "                    new_special_tokens.append(fr\"</s_{k}>\") if fr\"</s_{k}>\" not in new_special_tokens else None\n",
        "                output += (\n",
        "                    fr\"<s_{k}>\"\n",
        "                    + json2token(obj[k], update_special_tokens_for_json_key, sort_json_key)\n",
        "                    + fr\"</s_{k}>\"\n",
        "                )\n",
        "            return output\n",
        "    elif type(obj) == list:\n",
        "        return r\"<sep/>\".join(\n",
        "            [json2token(item, update_special_tokens_for_json_key, sort_json_key) for item in obj]\n",
        "        )\n",
        "    else:\n",
        "        # excluded special tokens for now\n",
        "        obj = str(obj)\n",
        "        if f\"<{obj}/>\" in new_special_tokens:\n",
        "            obj = f\"<{obj}/>\"  # for categorical special tokens\n",
        "        return obj\n",
        "\n",
        "\n",
        "def preprocess_documents_for_donut(sample):\n",
        "    # create Donut-style input\n",
        "    # text = json.loads(sample[\"text\"])\n",
        "\n",
        "    text = sample['label']\n",
        "    d_doc = task_start_token + json2token(text) + eos_token\n",
        "    # convert all images to RGB\n",
        "    image = sample[\"image\"].convert('RGB')\n",
        "    return {\"image\": image, \"label\": d_doc}\n",
        "\n",
        "proc_dataset = dataset.map(preprocess_documents_for_donut)\n",
        "\n",
        "# print(f\"Sample: {proc_dataset[45]['label']}\")\n",
        "# print(f\"New special tokens: {new_special_tokens + [task_start_token] + [eos_token]}\")\n",
        "#    Sample: <s><s_total>$6.90</s_total><s_date>27 MAR 2018</s_date><s_company>UNIHAKKA INTERNATIONAL SDN BHD</s_company><s_address>12, JALAN TAMPOI 7/4,KAWASAN PARINDUSTRIAN TAMPOI,81200 JOHOR BAHRU,JOHOR</s_address></s>\n",
        "#    New special tokens: ['<s_total>', '</s_total>', '<s_date>', '</s_date>', '<s_company>', '</s_company>', '<s_address>', '</s_address>', '<s>', '</s>']\n"
      ],
      "metadata": {
        "colab": {
          "base_uri": "https://localhost:8080/",
          "height": 17,
          "referenced_widgets": [
            "a7373928d88d4e6d816c9552e88f41f6",
            "66f28e69e433469dbb39c33964a8bfd5",
            "9092dbc62a7447898e494ff47bc846ca",
            "59a9f05f49e141ac881aef06a6ee2c00",
            "20843426b0024e1f87a7842b4e549d19",
            "d917961ca1fd48b1babf8199803ef6cb",
            "5491b73b5eb74f98a621923001e5d4e8",
            "6d73abe12ec249d0b31d70c16f97c38c",
            "35eff72f29eb41ebb100e108825c9e1c",
            "25a0590aa07c4115b750d05c15dc0355",
            "0718f04ecc984ae89c502b05d45d4944"
          ]
        },
        "id": "E6EuU6spiXjS",
        "outputId": "fbabb475-5450-4ac1-e2d3-3fd7891f6002"
      },
      "execution_count": 72,
      "outputs": [
        {
          "output_type": "display_data",
          "data": {
            "text/plain": [
              "Map:   0%|          | 0/500 [00:00<?, ? examples/s]"
            ],
            "application/vnd.jupyter.widget-view+json": {
              "version_major": 2,
              "version_minor": 0,
              "model_id": "a7373928d88d4e6d816c9552e88f41f6"
            }
          },
          "metadata": {}
        }
      ]
    },
    {
      "cell_type": "code",
      "source": [
        "# Print a random sample from the dataset\n",
        "show_random_sample(proc_dataset)\n"
      ],
      "metadata": {
        "colab": {
          "base_uri": "https://localhost:8080/",
          "height": 163
        },
        "id": "0mLOjNXN1t90",
        "outputId": "4f822bba-f93b-4d98-c0ea-aa82cc98c6f7"
      },
      "execution_count": 73,
      "outputs": [
        {
          "output_type": "stream",
          "name": "stdout",
          "text": [
            "Random sample is 193\n",
            "OCR text is: <s>and fishing gear leads to an overall</s>\n"
          ]
        },
        {
          "output_type": "display_data",
          "data": {
            "text/plain": [
              "<Figure size 640x480 with 1 Axes>"
            ],
            "image/png": "[encoded data removed]"
          },
          "metadata": {}
        }
      ]
    },
    {
      "cell_type": "markdown",
      "source": [],
      "metadata": {
        "id": "2CssdKWGatkn"
      }
    },
    {
      "cell_type": "markdown",
      "source": [],
      "metadata": {
        "id": "I68bzXLsat5p"
      }
    }
  ]
}