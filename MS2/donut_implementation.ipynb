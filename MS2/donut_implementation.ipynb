{
  "cells": [
    {
      "cell_type": "markdown",
      "metadata": {
        "id": "GEgCUDFGgfef"
      },
      "source": [
        "# Baseline Model for Handwritten recognition"
      ]
    },
    {
      "cell_type": "markdown",
      "metadata": {
        "id": "zlK-Y_W-goNT"
      },
      "source": [
        "## Imports"
      ]
    },
    {
      "cell_type": "code",
      "source": [
        "! pip install jiwer"
      ],
      "metadata": {
        "colab": {
          "base_uri": "https://localhost:8080/"
        },
        "id": "NMY-8mto7NbN",
        "outputId": "8e687b19-6c5a-4d13-b17d-a96ada362127"
      },
      "execution_count": 10,
      "outputs": [
        {
          "output_type": "stream",
          "name": "stdout",
          "text": [
            "Collecting jiwer\n",
            "  Downloading jiwer-3.0.2-py3-none-any.whl (21 kB)\n",
            "Requirement already satisfied: click<9.0.0,>=8.1.3 in /usr/local/lib/python3.10/dist-packages (from jiwer) (8.1.3)\n",
            "Collecting rapidfuzz==2.13.7 (from jiwer)\n",
            "  Downloading rapidfuzz-2.13.7-cp310-cp310-manylinux_2_17_x86_64.manylinux2014_x86_64.whl (2.2 MB)\n",
            "\u001b[2K     \u001b[90m━━━━━━━━━━━━━━━━━━━━━━━━━━━━━━━━━━━━━━━━\u001b[0m \u001b[32m2.2/2.2 MB\u001b[0m \u001b[31m86.7 MB/s\u001b[0m eta \u001b[36m0:00:00\u001b[0m\n",
            "\u001b[?25hInstalling collected packages: rapidfuzz, jiwer\n",
            "Successfully installed jiwer-3.0.2 rapidfuzz-2.13.7\n"
          ]
        }
      ]
    },
    {
      "cell_type": "code",
      "execution_count": 38,
      "metadata": {
        "id": "FcT8pKLmgUHh"
      },
      "outputs": [],
      "source": [
        "from tensorflow.keras import layers\n",
        "from tensorflow.keras import Sequential\n",
        "from tensorflow.keras.preprocessing.sequence import pad_sequences\n",
        "from jiwer import wer\n",
        "import difflib\n",
        "import os\n",
        "import cv2\n",
        "from PIL import Image\n",
        "import numpy as np\n",
        "from tensorflow.keras.losses import SparseCategoricalCrossentropy\n",
        "from tensorflow.keras.optimizers import Adam\n",
        "import pandas as pd\n",
        "import json\n",
        "from sklearn.model_selection import train_test_split\n",
        "\n",
        "import matplotlib.pyplot as plt"
      ]
    },
    {
      "cell_type": "markdown",
      "metadata": {
        "id": "KxKX25_i3bKJ"
      },
      "source": [
        "## Loading Data\n",
        "\n",
        "\n"
      ]
    },
    {
      "cell_type": "code",
      "source": [
        "! unzip /content/test_bw.zip"
      ],
      "metadata": {
        "colab": {
          "base_uri": "https://localhost:8080/"
        },
        "id": "cidFrSyk8rza",
        "outputId": "3a10cd57-2b0c-4d51-dfb9-aec624021d72"
      },
      "execution_count": 6,
      "outputs": [
        {
          "output_type": "stream",
          "name": "stdout",
          "text": [
            "Archive:  /content/test_bw.zip\n",
            "   creating: test_bw/\n",
            "  inflating: test_bw/g04-048-00.png  \n",
            "  inflating: test_bw/g06-037d-07.png  \n",
            "  inflating: test_bw/r06-090-01.png  \n",
            "  inflating: test_bw/a04-054-01.png  \n",
            "  inflating: test_bw/n01-031-07.png  \n",
            "  inflating: test_bw/c01-009-03.png  \n",
            "  inflating: test_bw/g06-018p-01.png  \n",
            "  inflating: test_bw/p03-004-03.png  \n",
            "  inflating: test_bw/e06-070-02.png  \n",
            "  inflating: test_bw/b06-015-09.png  \n",
            "  inflating: test_bw/l04-113-04.png  \n",
            "  inflating: test_bw/e06-021-03.png  \n",
            "  inflating: test_bw/c02-012-04.png  \n",
            "  inflating: test_bw/c02-049-08.png  \n",
            "  inflating: test_bw/f04-064-03.png  \n",
            "  inflating: test_bw/b04-134-02.png  \n",
            "  inflating: test_bw/b03-109-07.png  \n",
            "  inflating: test_bw/d04-012-10.png  \n",
            "  inflating: test_bw/m04-200-06.png  \n",
            "  inflating: test_bw/m04-145-05.png  \n",
            "  inflating: test_bw/a05-062-08.png  \n",
            "  inflating: test_bw/g06-050k-02.png  \n",
            "  inflating: test_bw/l01-105-06.png  \n",
            "  inflating: test_bw/r06-090-06.png  \n",
            "  inflating: test_bw/a01-058u-08.png  \n",
            "  inflating: test_bw/b01-062-06.png  \n",
            "  inflating: test_bw/a06-070-00.png  \n",
            "  inflating: test_bw/c02-000-00.png  \n",
            "  inflating: test_bw/b05-032-09.png  \n",
            "  inflating: test_bw/l07-065-03.png  \n",
            "  inflating: test_bw/e06-015-01.png  \n",
            "  inflating: test_bw/l04-062-05.png  \n",
            "  inflating: test_bw/g01-031-08.png  \n",
            "  inflating: test_bw/c03-000f-06.png  \n",
            "  inflating: test_bw/a01-000x-04.png  \n",
            "  inflating: test_bw/g06-011r-00.png  \n",
            "  inflating: test_bw/g06-031h-02.png  \n",
            "  inflating: test_bw/c03-016e-06.png  \n",
            "  inflating: test_bw/b06-004-01.png  \n",
            "  inflating: test_bw/k04-010-02.png  \n",
            "  inflating: test_bw/n04-031-02.png  \n",
            "  inflating: test_bw/d06-104-07.png  \n",
            "  inflating: test_bw/f02-020-02.png  \n",
            "  inflating: test_bw/b05-042-03.png  \n",
            "  inflating: test_bw/g06-026d-00.png  \n",
            "  inflating: test_bw/e04-000-02.png  \n",
            "  inflating: test_bw/e06-053-01.png  \n",
            "  inflating: test_bw/n06-128-03.png  \n",
            "  inflating: test_bw/c03-003e-02.png  \n",
            "  inflating: test_bw/m06-056-00.png  \n",
            "  inflating: test_bw/a06-020-01.png  \n",
            "  inflating: test_bw/b05-079-08.png  \n",
            "  inflating: test_bw/l04-153-04.png  \n",
            "  inflating: test_bw/g06-031o-05.png  \n",
            "  inflating: test_bw/a05-013-04.png  \n",
            "  inflating: test_bw/h04-021-06.png  \n",
            "  inflating: test_bw/g06-011i-05.png  \n",
            "  inflating: test_bw/c03-084b-02.png  \n",
            "  inflating: test_bw/a05-116-07.png  \n",
            "  inflating: test_bw/h07-030-06.png  \n",
            "  inflating: test_bw/f07-076a-00.png  \n",
            "  inflating: test_bw/m01-017-05.png  \n",
            "  inflating: test_bw/b04-169-03.png  \n",
            "  inflating: test_bw/b05-032-03.png  \n",
            "  inflating: test_bw/r02-117-02.png  \n",
            "  inflating: test_bw/p03-189-01.png  \n",
            "  inflating: test_bw/a05-104-03.png  \n",
            "  inflating: test_bw/b01-079-09.png  \n",
            "  inflating: test_bw/p06-042-01.png  \n",
            "  inflating: test_bw/c06-014-06.png  \n",
            "  inflating: test_bw/b03-098-02.png  \n",
            "  inflating: test_bw/b04-000-02.png  \n",
            "  inflating: test_bw/c01-014-07.png  \n",
            "  inflating: test_bw/b03-104-08.png  \n",
            "  inflating: test_bw/l04-174-03.png  \n",
            "  inflating: test_bw/h07-017-00.png  \n",
            "  inflating: test_bw/e07-066-07.png  \n",
            "  inflating: test_bw/g01-070-03.png  \n",
            "  inflating: test_bw/p03-151-02.png  \n",
            "  inflating: test_bw/n02-054-08.png  \n",
            "  inflating: test_bw/r06-000-00.png  \n",
            "  inflating: test_bw/g06-026e-05.png  \n",
            "  inflating: test_bw/g06-042f-02.png  \n",
            "  inflating: test_bw/n04-213-03.png  \n",
            "  inflating: test_bw/n02-146-02.png  \n",
            "  inflating: test_bw/h04-000-02.png  \n",
            "  inflating: test_bw/g06-045n-06.png  \n",
            "  inflating: test_bw/g06-031o-06.png  \n",
            "  inflating: test_bw/g07-034-03.png  \n",
            "  inflating: test_bw/f07-028b-08.png  \n",
            "  inflating: test_bw/a01-011-04.png  \n",
            "  inflating: test_bw/m02-072-01.png  \n",
            "  inflating: test_bw/m03-013-00.png  \n",
            "  inflating: test_bw/g01-074-09.png  \n",
            "  inflating: test_bw/a03-030-00.png  \n",
            "  inflating: test_bw/p02-090-00.png  \n",
            "  inflating: test_bw/a02-116-05.png  \n",
            "  inflating: test_bw/k04-142-04.png  \n",
            "  inflating: test_bw/a05-116-08.png  \n",
            "  inflating: test_bw/a01-038x-05.png  \n",
            "  inflating: test_bw/l04-106-04.png  \n",
            "  inflating: test_bw/d07-085-07.png  \n",
            "  inflating: test_bw/b01-073-04.png  \n",
            "  inflating: test_bw/p03-087-03.png  \n",
            "  inflating: test_bw/p03-142-05.png  \n",
            "  inflating: test_bw/l04-026-02.png  \n",
            "  inflating: test_bw/b02-097-03.png  \n",
            "  inflating: test_bw/a03-040-06.png  \n",
            "  inflating: test_bw/b05-062-00.png  \n",
            "  inflating: test_bw/e06-033-03.png  \n",
            "  inflating: test_bw/e07-090-06.png  \n",
            "  inflating: test_bw/p02-131-00.png  \n",
            "  inflating: test_bw/h07-071a-09.png  \n",
            "  inflating: test_bw/a01-049-04.png  \n",
            "  inflating: test_bw/a01-132-05.png  \n",
            "  inflating: test_bw/c03-084e-05.png  \n",
            "  inflating: test_bw/g01-012-04.png  \n",
            "  inflating: test_bw/n06-123-08.png  \n",
            "  inflating: test_bw/l07-111-08.png  \n",
            "  inflating: test_bw/p02-144-08.png  \n",
            "  inflating: test_bw/a03-071-05.png  \n",
            "  inflating: test_bw/d06-104-01.png  \n",
            "  inflating: test_bw/m04-164-02.png  \n",
            "  inflating: test_bw/a01-014u-07.png  \n",
            "  inflating: test_bw/g06-031b-04.png  \n",
            "  inflating: test_bw/a06-090-00.png  \n",
            "  inflating: test_bw/r03-002-05.png  \n",
            "  inflating: test_bw/a05-094-09.png  \n",
            "  inflating: test_bw/c03-081e-00.png  \n",
            "  inflating: test_bw/c04-156-01.png  \n",
            "  inflating: test_bw/g07-007b-01.png  \n",
            "  inflating: test_bw/b05-098-09.png  \n",
            "  inflating: test_bw/c06-087-02.png  \n",
            "  inflating: test_bw/e01-107-09.png  \n",
            "  inflating: test_bw/c02-059-08.png  \n",
            "  inflating: test_bw/h07-075a-03.png  \n",
            "  inflating: test_bw/g06-026j-00.png  \n",
            "  inflating: test_bw/g07-042-08.png  \n",
            "  inflating: test_bw/p03-103-03.png  \n",
            "  inflating: test_bw/b06-045-06.png  \n",
            "  inflating: test_bw/n02-016-01.png  \n",
            "  inflating: test_bw/d04-121-02.png  \n",
            "  inflating: test_bw/h07-033-06.png  \n",
            "  inflating: test_bw/n04-068-03.png  \n",
            "  inflating: test_bw/e06-049-04.png  \n",
            "  inflating: test_bw/a06-152-10.png  \n",
            "  inflating: test_bw/f04-049-05.png  \n",
            "  inflating: test_bw/d04-071-02.png  \n",
            "  inflating: test_bw/n06-201-01.png  \n",
            "  inflating: test_bw/c03-007a-06.png  \n",
            "  inflating: test_bw/m04-007-09.png  \n",
            "  inflating: test_bw/m04-000-00.png  \n",
            "  inflating: test_bw/a01-007u-06.png  \n",
            "  inflating: test_bw/n04-218-08.png  \n",
            "  inflating: test_bw/g04-088-05.png  \n",
            "  inflating: test_bw/g07-069a-05.png  \n",
            "  inflating: test_bw/k04-103-04.png  \n",
            "  inflating: test_bw/n04-114-05.png  \n",
            "  inflating: test_bw/d04-012-00.png  \n",
            "  inflating: test_bw/m04-000-07.png  \n",
            "  inflating: test_bw/c04-170-00.png  \n",
            "  inflating: test_bw/n04-149-07.png  \n",
            "  inflating: test_bw/p03-158-05.png  \n",
            "  inflating: test_bw/c06-083-01.png  \n",
            "  inflating: test_bw/e06-010-03.png  \n",
            "  inflating: test_bw/a02-004-09.png  \n",
            "  inflating: test_bw/m01-038-07.png  \n",
            "  inflating: test_bw/g04-104-02.png  \n",
            "  inflating: test_bw/g06-042l-03.png  \n",
            "  inflating: test_bw/a01-132x-06.png  \n",
            "  inflating: test_bw/b05-088-05.png  \n",
            "  inflating: test_bw/r03-096-02.png  \n",
            "  inflating: test_bw/a01-077-06.png  \n",
            "  inflating: test_bw/g07-026b-03.png  \n",
            "  inflating: test_bw/p03-135-04.png  \n",
            "  inflating: test_bw/c03-016c-03.png  \n",
            "  inflating: test_bw/c03-084b-03.png  \n",
            "  inflating: test_bw/d01-080-05.png  \n",
            "  inflating: test_bw/b02-013-07.png  \n",
            "  inflating: test_bw/m01-125-10.png  \n",
            "  inflating: test_bw/e06-003-04.png  \n",
            "  inflating: test_bw/a06-128-09.png  \n",
            "  inflating: test_bw/f07-042a-01.png  \n",
            "  inflating: test_bw/g07-026a-02.png  \n",
            "  inflating: test_bw/b01-009-03.png  \n",
            "  inflating: test_bw/h01-004-02.png  \n",
            "  inflating: test_bw/b01-057-08.png  \n",
            "  inflating: test_bw/g06-050r-03.png  \n",
            "  inflating: test_bw/g04-104-03.png  \n",
            "  inflating: test_bw/m06-048-07.png  \n",
            "  inflating: test_bw/r02-038-00.png  \n",
            "  inflating: test_bw/r02-089-03.png  \n",
            "  inflating: test_bw/r02-013-03.png  \n",
            "  inflating: test_bw/m02-075-02.png  \n",
            "  inflating: test_bw/c04-056-04.png  \n",
            "  inflating: test_bw/n04-044-05.png  \n",
            "  inflating: test_bw/m04-078-05.png  \n",
            "  inflating: test_bw/g06-050r-01.png  \n",
            "  inflating: test_bw/e04-043-00.png  \n",
            "  inflating: test_bw/a01-107-03.png  \n",
            "  inflating: test_bw/j06-018-02.png  \n",
            "  inflating: test_bw/g04-088-04.png  \n",
            "  inflating: test_bw/j06-030-04.png  \n",
            "  inflating: test_bw/n04-052-02.png  \n",
            "  inflating: test_bw/h07-030-03.png  \n",
            "  inflating: test_bw/k03-157-05.png  \n",
            "  inflating: test_bw/a04-010-07.png  \n",
            "  inflating: test_bw/c02-000-09.png  \n",
            "  inflating: test_bw/e07-105-00.png  \n",
            "  inflating: test_bw/j04-039-03.png  \n",
            "  inflating: test_bw/a03-009-05.png  \n",
            "  inflating: test_bw/d06-008-06.png  \n",
            "  inflating: test_bw/r06-022-04.png  \n",
            "  inflating: test_bw/l07-187-07.png  \n",
            "  inflating: test_bw/p02-008-00.png  \n",
            "  inflating: test_bw/a04-072-05.png  \n",
            "  inflating: test_bw/a01-053u-01.png  \n",
            "  inflating: test_bw/g07-007b-05.png  \n",
            "  inflating: test_bw/p06-047-00.png  \n",
            "  inflating: test_bw/b04-147-03.png  \n",
            "  inflating: test_bw/n03-066-04.png  \n",
            "  inflating: test_bw/m04-093-02.png  \n",
            "  inflating: test_bw/a06-147-05.png  \n",
            "  inflating: test_bw/m02-083-02.png  \n",
            "  inflating: test_bw/m04-113-04.png  \n",
            "  inflating: test_bw/a02-042-05.png  \n",
            "  inflating: test_bw/c02-017-07.png  \n",
            "  inflating: test_bw/a04-050-00.png  \n",
            "  inflating: test_bw/e04-019-00.png  \n",
            "  inflating: test_bw/g07-069a-00.png  \n",
            "  inflating: test_bw/e04-091-00.png  \n",
            "  inflating: test_bw/n03-064-02.png  \n",
            "  inflating: test_bw/b06-075-06.png  \n",
            "  inflating: test_bw/f07-088a-06.png  \n",
            "  inflating: test_bw/b06-056-00.png  \n",
            "  inflating: test_bw/l07-181-03.png  \n",
            "  inflating: test_bw/h07-023-01.png  \n",
            "  inflating: test_bw/b01-113-04.png  \n",
            "  inflating: test_bw/a05-053-01.png  \n",
            "  inflating: test_bw/a01-049u-09.png  \n",
            "  inflating: test_bw/g06-031c-06.png  \n",
            "  inflating: test_bw/n04-100-03.png  \n",
            "  inflating: test_bw/b04-202-00.png  \n",
            "  inflating: test_bw/g06-047i-00.png  \n",
            "  inflating: test_bw/c03-021f-04.png  \n",
            "  inflating: test_bw/m01-121-00.png  \n",
            "  inflating: test_bw/k02-076-05.png  \n",
            "  inflating: test_bw/l01-050-07.png  \n",
            "  inflating: test_bw/j06-034-00.png  \n",
            "  inflating: test_bw/m03-095-02.png  \n",
            "  inflating: test_bw/h04-071-02.png  \n",
            "  inflating: test_bw/g06-047p-05.png  \n",
            "  inflating: test_bw/f07-019b-06.png  \n",
            "  inflating: test_bw/f07-021b-02.png  \n",
            "  inflating: test_bw/d06-096-08.png  \n",
            "  inflating: test_bw/h01-004-05.png  \n",
            "  inflating: test_bw/n04-218-00.png  \n",
            "  inflating: test_bw/a06-152-07.png  \n",
            "  inflating: test_bw/c03-016e-02.png  \n",
            "  inflating: test_bw/l03-004-02.png  \n",
            "  inflating: test_bw/c04-105-06.png  \n",
            "  inflating: test_bw/d06-050-05.png  \n",
            "  inflating: test_bw/g06-026f-03.png  \n",
            "  inflating: test_bw/h07-060b-03.png  \n",
            "  inflating: test_bw/f01-139-06.png  \n",
            "  inflating: test_bw/f01-085-05.png  \n",
            "  inflating: test_bw/c06-128-03.png  \n",
            "  inflating: test_bw/c02-012-01.png  \n",
            "  inflating: test_bw/a01-058u-01.png  \n",
            "  inflating: test_bw/c04-004-02.png  \n",
            "  inflating: test_bw/g03-064-07.png  \n",
            "  inflating: test_bw/g04-095-02.png  \n",
            "  inflating: test_bw/n06-186-01.png  \n",
            "  inflating: test_bw/f07-081b-06.png  \n",
            "  inflating: test_bw/h07-028a-01.png  \n",
            "  inflating: test_bw/b04-004-01.png  \n",
            "  inflating: test_bw/p03-181-09.png  \n",
            "  inflating: test_bw/h07-040-09.png  \n",
            "  inflating: test_bw/d05-008-07.png  \n",
            "  inflating: test_bw/m02-069-08.png  \n",
            "  inflating: test_bw/a02-078-04.png  \n",
            "  inflating: test_bw/l01-023-06.png  \n",
            "  inflating: test_bw/n06-186-00.png  \n",
            "  inflating: test_bw/f07-088a-02.png  \n",
            "  inflating: test_bw/h06-079-03.png  \n",
            "  inflating: test_bw/p02-076-07.png  \n",
            "  inflating: test_bw/l07-111-05.png  \n",
            "  inflating: test_bw/d06-008-02.png  \n",
            "  inflating: test_bw/b06-064-06.png  \n",
            "  inflating: test_bw/l04-170-05.png  \n",
            "  inflating: test_bw/d04-032-06.png  \n",
            "  inflating: test_bw/n06-123-07.png  \n",
            "  inflating: test_bw/j06-030-08.png  \n",
            "  inflating: test_bw/p06-042-08.png  \n",
            "  inflating: test_bw/c02-007-00.png  \n",
            "  inflating: test_bw/c03-003d-00.png  \n",
            "  inflating: test_bw/n02-146-05.png  \n",
            "  inflating: test_bw/d05-013-05.png  \n",
            "  inflating: test_bw/l01-000-10.png  \n",
            "  inflating: test_bw/a03-089-00.png  \n",
            "  inflating: test_bw/a05-094-02.png  \n",
            "  inflating: test_bw/p02-081-03.png  \n",
            "  inflating: test_bw/f02-033-04.png  \n",
            "  inflating: test_bw/g06-042d-00.png  \n",
            "  inflating: test_bw/n03-120-01.png  \n",
            "  inflating: test_bw/g06-050c-06.png  \n",
            "  inflating: test_bw/a01-038-08.png  \n",
            "  inflating: test_bw/g06-031k-06.png  \n",
            "  inflating: test_bw/b01-079-06.png  \n",
            "  inflating: test_bw/l01-133-01.png  \n",
            "  inflating: test_bw/m04-123-04.png  \n",
            "  inflating: test_bw/a03-054-07.png  \n",
            "  inflating: test_bw/j06-051-06.png  \n",
            "  inflating: test_bw/m02-109-00.png  \n",
            "  inflating: test_bw/b04-175-08.png  \n",
            "  inflating: test_bw/a03-063-04.png  \n",
            "  inflating: test_bw/g06-101-00.png  \n",
            "  inflating: test_bw/g03-004-01.png  \n",
            "  inflating: test_bw/e04-086-04.png  \n",
            "  inflating: test_bw/e04-034-04.png  \n",
            "  inflating: test_bw/g06-050a-03.png  \n",
            "  inflating: test_bw/h04-071-01.png  \n",
            "  inflating: test_bw/d04-096-01.png  \n",
            "  inflating: test_bw/c06-011-07.png  \n",
            "  inflating: test_bw/e07-108-08.png  \n",
            "  inflating: test_bw/r02-060-04.png  \n",
            "  inflating: test_bw/g06-050p-06.png  \n",
            "  inflating: test_bw/d04-081-01.png  \n",
            "  inflating: test_bw/g06-011c-04.png  \n",
            "  inflating: test_bw/f04-011-09.png  \n",
            "  inflating: test_bw/g06-050h-07.png  \n",
            "  inflating: test_bw/l01-111-04.png  \n",
            "  inflating: test_bw/g06-026o-05.png  \n",
            "  inflating: test_bw/f01-135-05.png  \n",
            "  inflating: test_bw/d04-037-01.png  \n",
            "  inflating: test_bw/b06-053-06.png  \n",
            "  inflating: test_bw/g06-011c-06.png  \n",
            "  inflating: test_bw/m01-131-00.png  \n",
            "  inflating: test_bw/l07-172-06.png  \n",
            "  inflating: test_bw/c03-081e-05.png  \n",
            "  inflating: test_bw/g07-022a-03.png  \n",
            "  inflating: test_bw/f04-049-06.png  \n",
            "  inflating: test_bw/b04-134-00.png  \n",
            "  inflating: test_bw/g06-037n-06.png  \n",
            "  inflating: test_bw/g02-073-05.png  \n",
            "  inflating: test_bw/c03-007f-05.png  \n",
            "  inflating: test_bw/a01-049-01.png  \n",
            "  inflating: test_bw/b04-128-06.png  \n",
            "  inflating: test_bw/n02-114-04.png  \n",
            "  inflating: test_bw/g06-018b-04.png  \n",
            "  inflating: test_bw/l04-124-04.png  \n",
            "  inflating: test_bw/b06-012-02.png  \n",
            "  inflating: test_bw/l07-131-03.png  \n",
            "  inflating: test_bw/r06-076-07.png  \n",
            "  inflating: test_bw/p03-029-06.png  \n",
            "  inflating: test_bw/c06-020-05.png  \n",
            "  inflating: test_bw/l04-159-06.png  \n",
            "  inflating: test_bw/h04-049-02.png  \n",
            "  inflating: test_bw/n01-031-06.png  \n",
            "  inflating: test_bw/e01-050-01.png  \n",
            "  inflating: test_bw/c06-052-02.png  \n",
            "  inflating: test_bw/f04-024-07.png  \n",
            "  inflating: test_bw/a06-014-09.png  \n",
            "  inflating: test_bw/f01-070-01.png  \n",
            "  inflating: test_bw/m04-024-03.png  \n",
            "  inflating: test_bw/p03-047-08.png  \n",
            "  inflating: test_bw/r03-053-02.png  \n",
            "  inflating: test_bw/b06-090-02.png  \n",
            "  inflating: test_bw/m04-145-04.png  \n",
            "  inflating: test_bw/g07-010b-02.png  \n",
            "  inflating: test_bw/m06-106-00.png  \n",
            "  inflating: test_bw/r06-143-00.png  \n",
            "  inflating: test_bw/a06-075-00.png  \n",
            "  inflating: test_bw/f01-139-05.png  \n",
            "  inflating: test_bw/f07-009-03.png  \n",
            "  inflating: test_bw/g06-045j-00.png  \n",
            "  inflating: test_bw/g04-043-04.png  \n",
            "  inflating: test_bw/h02-004-00.png  \n",
            "  inflating: test_bw/k07-146-05.png  \n",
            "  inflating: test_bw/g06-050o-02.png  \n",
            "  inflating: test_bw/k07-141-00.png  \n",
            "  inflating: test_bw/b06-079-03.png  \n",
            "  inflating: test_bw/k07-158-06.png  \n",
            "  inflating: test_bw/k04-017-03.png  \n",
            "  inflating: test_bw/e07-007-03.png  \n",
            "  inflating: test_bw/a01-007u-02.png  \n",
            "  inflating: test_bw/g06-045b-06.png  \n",
            "  inflating: test_bw/f07-028b-09.png  \n",
            "  inflating: test_bw/m01-121-06.png  \n",
            "  inflating: test_bw/e02-086-03.png  \n",
            "  inflating: test_bw/a04-023-03.png  \n",
            "  inflating: test_bw/b06-053-01.png  \n",
            "  inflating: test_bw/c03-087b-01.png  \n",
            "  inflating: test_bw/j04-080-03.png  \n",
            "  inflating: test_bw/f07-046a-05.png  \n",
            "  inflating: test_bw/l01-187-09.png  \n",
            "  inflating: test_bw/m02-095-08.png  \n",
            "  inflating: test_bw/a01-113u-06.png  \n",
            "  inflating: test_bw/g07-018a-00.png  \n",
            "  inflating: test_bw/b01-044-00.png  \n",
            "  inflating: test_bw/n02-151-07.png  \n",
            "  inflating: test_bw/e02-091-03.png  \n",
            "  inflating: test_bw/e04-103-03.png  \n",
            "  inflating: test_bw/j06-051-09.png  \n",
            "  inflating: test_bw/c01-066-05.png  \n",
            "  inflating: test_bw/k07-166-08.png  \n",
            "  inflating: test_bw/h04-007-02.png  \n",
            "  inflating: test_bw/b06-068-05.png  \n",
            "  inflating: test_bw/j07-012-06.png  \n",
            "  inflating: test_bw/m04-024-01.png  \n",
            "  inflating: test_bw/a01-053-04.png  \n",
            "  inflating: test_bw/a05-062-04.png  \n",
            "  inflating: test_bw/j04-115-00.png  \n",
            "  inflating: test_bw/c04-075-06.png  \n",
            "  inflating: test_bw/b05-083-03.png  \n",
            "  inflating: test_bw/k07-059a-05.png  \n",
            "  inflating: test_bw/p02-069-05.png  \n",
            "  inflating: test_bw/n04-107-02.png  \n",
            "  inflating: test_bw/n06-100-01.png  \n",
            "  inflating: test_bw/k02-097-01.png  \n",
            "  inflating: test_bw/h06-003-06.png  \n",
            "  inflating: test_bw/d06-111-00.png  \n",
            "  inflating: test_bw/e04-068-01.png  \n",
            "  inflating: test_bw/h07-033-09.png  \n",
            "  inflating: test_bw/l07-052-00.png  \n",
            "  inflating: test_bw/a01-087-04.png  \n",
            "  inflating: test_bw/f02-040-09.png  \n",
            "  inflating: test_bw/h02-043-08.png  \n",
            "  inflating: test_bw/n06-169-00.png  \n",
            "  inflating: test_bw/p01-155-07.png  \n",
            "  inflating: test_bw/g07-000b-04.png  \n",
            "  inflating: test_bw/g06-037j-03.png  \n",
            "  inflating: test_bw/f07-101b-04.png  \n",
            "  inflating: test_bw/n06-186-05.png  \n",
            "  inflating: test_bw/d06-025-02.png  \n",
            "  inflating: test_bw/h01-010-01.png  \n",
            "  inflating: test_bw/a05-062-02.png  \n",
            "  inflating: test_bw/a04-072-10.png  \n",
            "  inflating: test_bw/c03-007d-07.png  \n",
            "  inflating: test_bw/h02-043-05.png  \n",
            "  inflating: test_bw/d06-072-09.png  \n",
            "  inflating: test_bw/a04-000-01.png  \n",
            "  inflating: test_bw/g06-045o-07.png  \n",
            "  inflating: test_bw/l01-030-02.png  \n",
            "  inflating: test_bw/h07-044a-07.png  \n",
            "  inflating: test_bw/g06-047m-00.png  \n",
            "  inflating: test_bw/e06-046-03.png  \n",
            "  inflating: test_bw/g06-047e-01.png  \n",
            "  inflating: test_bw/h01-014-00.png  \n",
            "  inflating: test_bw/d06-104-04.png  \n",
            "  inflating: test_bw/e02-014-03.png  \n",
            "  inflating: test_bw/g07-084-05.png  \n",
            "  inflating: test_bw/g06-037l-05.png  \n",
            "  inflating: test_bw/b06-008-01.png  \n",
            "  inflating: test_bw/h02-012-01.png  \n",
            "  inflating: test_bw/g06-026i-02.png  \n",
            "  inflating: test_bw/d04-037-03.png  \n",
            "  inflating: test_bw/d06-050-00.png  \n",
            "  inflating: test_bw/m02-048-04.png  \n",
            "  inflating: test_bw/g01-012-03.png  \n",
            "  inflating: test_bw/h04-082-06.png  \n",
            "  inflating: test_bw/g04-095-06.png  \n",
            "  inflating: test_bw/k03-138-02.png  \n",
            "  inflating: test_bw/c03-021f-03.png  \n",
            "  inflating: test_bw/h04-061-08.png  \n",
            "  inflating: test_bw/m03-006-06.png  \n",
            "  inflating: test_bw/g06-031n-04.png  \n",
            "  inflating: test_bw/p02-101-03.png  \n",
            "  inflating: test_bw/m04-072-00.png  \n",
            "  inflating: test_bw/n02-000-06.png  \n",
            "  inflating: test_bw/a01-117u-02.png  \n",
            "  inflating: test_bw/m03-062-01.png  \n",
            "  inflating: test_bw/g07-014-03.png  \n",
            "  inflating: test_bw/c03-084e-06.png  \n",
            "  inflating: test_bw/c03-096a-00.png  \n",
            "  inflating: test_bw/e04-079-00.png  \n",
            "  inflating: test_bw/g06-047o-02.png  \n",
            "  inflating: test_bw/a01-011x-07.png  \n",
            "  inflating: test_bw/r03-030-03.png  \n",
            "  inflating: test_bw/e01-025-01.png  \n",
            "  inflating: test_bw/g06-050k-05.png  \n",
            "  inflating: test_bw/g03-049-01.png  \n",
            "  inflating: test_bw/d06-037-04.png  \n",
            "  inflating: test_bw/g06-037c-00.png  \n",
            "  inflating: test_bw/m04-107-09.png  \n",
            "  inflating: test_bw/g06-050j-05.png  \n",
            "  inflating: test_bw/a01-007u-07.png  \n",
            "  inflating: test_bw/m06-098-02.png  \n",
            "  inflating: test_bw/d06-025-06.png  \n",
            "  inflating: test_bw/a01-049x-05.png  \n",
            "  inflating: test_bw/a01-011x-02.png  \n",
            "  inflating: test_bw/c06-011-01.png  \n",
            "  inflating: test_bw/f07-024b-01.png  \n",
            "  inflating: test_bw/j04-115-05.png  \n",
            "  inflating: test_bw/r06-057-04.png  \n",
            "  inflating: test_bw/h06-000-00.png  \n",
            "  inflating: test_bw/n04-213-06.png  \n",
            "  inflating: test_bw/g07-018a-10.png  \n",
            "  inflating: test_bw/a01-053-01.png  \n",
            "  inflating: test_bw/g06-045p-03.png  \n"
          ]
        }
      ]
    },
    {
      "cell_type": "code",
      "execution_count": 44,
      "metadata": {
        "colab": {
          "base_uri": "https://localhost:8080/"
        },
        "id": "y2C754k23Yem",
        "outputId": "de32bf86-23e5-48d1-a658-e17915439542"
      },
      "outputs": [
        {
          "output_type": "execute_result",
          "data": {
            "text/plain": [
              "numpy.ndarray"
            ]
          },
          "metadata": {},
          "execution_count": 44
        }
      ],
      "source": [
        "folder_path = '/content/test_bw'  # Replace 'folder_name' with the actual folder name\n",
        "\n",
        "images = []\n",
        "for file_name in os.listdir(folder_path):\n",
        "  image_path = os.path.join(folder_path, file_name)\n",
        "  image = np.array(Image.open(image_path))\n",
        "  images.append(image)\n",
        "\n",
        "images = np.array(images)\n",
        "images.shape"
      ]
    },
    {
      "cell_type": "code",
      "execution_count": 73,
      "metadata": {
        "colab": {
          "base_uri": "https://localhost:8080/",
          "height": 224
        },
        "id": "Wfg2bR3UxBQ8",
        "outputId": "20e23e17-7ff1-4a89-ff22-ef4e157c3bb9"
      },
      "outputs": [
        {
          "output_type": "display_data",
          "data": {
            "text/plain": [
              "             0                                                  1\n",
              "0  a01-000x-04     and he is to be backed by Mr. Will Griffiths ,\n",
              "1  a01-007u-02         sentiment would still favour the abolition\n",
              "2  a01-007u-06           Nationalist Parties of Northern Rhodesia\n",
              "3  a01-007u-07                have agreed to get together to face\n",
              "4   a01-011-04  violently opposed to Africans getting an elect..."
            ],
            "text/html": [
              "\n",
              "  <div id=\"df-53e9bfdb-c18d-48ad-ae94-4d1a7b238d40\">\n",
              "    <div class=\"colab-df-container\">\n",
              "      <div>\n",
              "<style scoped>\n",
              "    .dataframe tbody tr th:only-of-type {\n",
              "        vertical-align: middle;\n",
              "    }\n",
              "\n",
              "    .dataframe tbody tr th {\n",
              "        vertical-align: top;\n",
              "    }\n",
              "\n",
              "    .dataframe thead th {\n",
              "        text-align: right;\n",
              "    }\n",
              "</style>\n",
              "<table border=\"1\" class=\"dataframe\">\n",
              "  <thead>\n",
              "    <tr style=\"text-align: right;\">\n",
              "      <th></th>\n",
              "      <th>0</th>\n",
              "      <th>1</th>\n",
              "    </tr>\n",
              "  </thead>\n",
              "  <tbody>\n",
              "    <tr>\n",
              "      <th>0</th>\n",
              "      <td>a01-000x-04</td>\n",
              "      <td>and he is to be backed by Mr. Will Griffiths ,</td>\n",
              "    </tr>\n",
              "    <tr>\n",
              "      <th>1</th>\n",
              "      <td>a01-007u-02</td>\n",
              "      <td>sentiment would still favour the abolition</td>\n",
              "    </tr>\n",
              "    <tr>\n",
              "      <th>2</th>\n",
              "      <td>a01-007u-06</td>\n",
              "      <td>Nationalist Parties of Northern Rhodesia</td>\n",
              "    </tr>\n",
              "    <tr>\n",
              "      <th>3</th>\n",
              "      <td>a01-007u-07</td>\n",
              "      <td>have agreed to get together to face</td>\n",
              "    </tr>\n",
              "    <tr>\n",
              "      <th>4</th>\n",
              "      <td>a01-011-04</td>\n",
              "      <td>violently opposed to Africans getting an elect...</td>\n",
              "    </tr>\n",
              "  </tbody>\n",
              "</table>\n",
              "</div>\n",
              "      <button class=\"colab-df-convert\" onclick=\"convertToInteractive('df-53e9bfdb-c18d-48ad-ae94-4d1a7b238d40')\"\n",
              "              title=\"Convert this dataframe to an interactive table.\"\n",
              "              style=\"display:none;\">\n",
              "        \n",
              "  <svg xmlns=\"http://www.w3.org/2000/svg\" height=\"24px\"viewBox=\"0 0 24 24\"\n",
              "       width=\"24px\">\n",
              "    <path d=\"M0 0h24v24H0V0z\" fill=\"none\"/>\n",
              "    <path d=\"M18.56 5.44l.94 2.06.94-2.06 2.06-.94-2.06-.94-.94-2.06-.94 2.06-2.06.94zm-11 1L8.5 8.5l.94-2.06 2.06-.94-2.06-.94L8.5 2.5l-.94 2.06-2.06.94zm10 10l.94 2.06.94-2.06 2.06-.94-2.06-.94-.94-2.06-.94 2.06-2.06.94z\"/><path d=\"M17.41 7.96l-1.37-1.37c-.4-.4-.92-.59-1.43-.59-.52 0-1.04.2-1.43.59L10.3 9.45l-7.72 7.72c-.78.78-.78 2.05 0 2.83L4 21.41c.39.39.9.59 1.41.59.51 0 1.02-.2 1.41-.59l7.78-7.78 2.81-2.81c.8-.78.8-2.07 0-2.86zM5.41 20L4 18.59l7.72-7.72 1.47 1.35L5.41 20z\"/>\n",
              "  </svg>\n",
              "      </button>\n",
              "      \n",
              "  <style>\n",
              "    .colab-df-container {\n",
              "      display:flex;\n",
              "      flex-wrap:wrap;\n",
              "      gap: 12px;\n",
              "    }\n",
              "\n",
              "    .colab-df-convert {\n",
              "      background-color: #E8F0FE;\n",
              "      border: none;\n",
              "      border-radius: 50%;\n",
              "      cursor: pointer;\n",
              "      display: none;\n",
              "      fill: #1967D2;\n",
              "      height: 32px;\n",
              "      padding: 0 0 0 0;\n",
              "      width: 32px;\n",
              "    }\n",
              "\n",
              "    .colab-df-convert:hover {\n",
              "      background-color: #E2EBFA;\n",
              "      box-shadow: 0px 1px 2px rgba(60, 64, 67, 0.3), 0px 1px 3px 1px rgba(60, 64, 67, 0.15);\n",
              "      fill: #174EA6;\n",
              "    }\n",
              "\n",
              "    [theme=dark] .colab-df-convert {\n",
              "      background-color: #3B4455;\n",
              "      fill: #D2E3FC;\n",
              "    }\n",
              "\n",
              "    [theme=dark] .colab-df-convert:hover {\n",
              "      background-color: #434B5C;\n",
              "      box-shadow: 0px 1px 3px 1px rgba(0, 0, 0, 0.15);\n",
              "      filter: drop-shadow(0px 1px 2px rgba(0, 0, 0, 0.3));\n",
              "      fill: #FFFFFF;\n",
              "    }\n",
              "  </style>\n",
              "\n",
              "      <script>\n",
              "        const buttonEl =\n",
              "          document.querySelector('#df-53e9bfdb-c18d-48ad-ae94-4d1a7b238d40 button.colab-df-convert');\n",
              "        buttonEl.style.display =\n",
              "          google.colab.kernel.accessAllowed ? 'block' : 'none';\n",
              "\n",
              "        async function convertToInteractive(key) {\n",
              "          const element = document.querySelector('#df-53e9bfdb-c18d-48ad-ae94-4d1a7b238d40');\n",
              "          const dataTable =\n",
              "            await google.colab.kernel.invokeFunction('convertToInteractive',\n",
              "                                                     [key], {});\n",
              "          if (!dataTable) return;\n",
              "\n",
              "          const docLinkHtml = 'Like what you see? Visit the ' +\n",
              "            '<a target=\"_blank\" href=https://colab.research.google.com/notebooks/data_table.ipynb>data table notebook</a>'\n",
              "            + ' to learn more about interactive tables.';\n",
              "          element.innerHTML = '';\n",
              "          dataTable['output_type'] = 'display_data';\n",
              "          await google.colab.output.renderOutput(dataTable, element);\n",
              "          const docLink = document.createElement('div');\n",
              "          docLink.innerHTML = docLinkHtml;\n",
              "          element.appendChild(docLink);\n",
              "        }\n",
              "      </script>\n",
              "    </div>\n",
              "  </div>\n",
              "  "
            ]
          },
          "metadata": {}
        },
        {
          "output_type": "execute_result",
          "data": {
            "text/plain": [
              "(500,)"
            ]
          },
          "metadata": {},
          "execution_count": 73
        }
      ],
      "source": [
        "labels_head = pd.read_csv('/content/labels_500_bw.csv', sep='\\t', header=None)\n",
        "display(labels_head.head())\n",
        "labels = labels_head.iloc[:,1].to_numpy()\n",
        "labels.shape"
      ]
    },
    {
      "cell_type": "code",
      "execution_count": 74,
      "metadata": {
        "id": "MMdQ1PD265au"
      },
      "outputs": [],
      "source": [
        "train_images, test_images, train_labels, test_labels = train_test_split(images, labels, test_size=0.2, random_state=1)"
      ]
    },
    {
      "cell_type": "code",
      "execution_count": 75,
      "metadata": {
        "id": "wLwSw5WHiCxm"
      },
      "outputs": [],
      "source": [
        "def label_preprocessing(labels_sentence, vocabulary):\n",
        "    '''\n",
        "    Takes in a single label as a string (sentence matching the content of the image) and\n",
        "    preprocesses it so that the label can interpreted by the model\n",
        "    Param: label_sentence: the label a string\n",
        "    Returns: The preprocessed label as a sequence of indexes\n",
        "    '''\n",
        "    max_sequence_length = max(len(sentence) for sentence in labels_sentence )\n",
        "\n",
        "    labels_indexes = [[vocabulary[char] for char in sentence] for sentence in labels_sentence]\n",
        "    preprocesed_label = pad_sequences(labels_indexes, maxlen=max_sequence_length, padding='post')\n",
        "\n",
        "    return preprocesed_label, max_sequence_length\n",
        "\n",
        "\n",
        "def get_vocabulary(train_labels):\n",
        "    \"\"\"\n",
        "    creates a vocabulary for the translation of the prediction\n",
        "    \"\"\"\n",
        "    vocabulary = sorted(set(''.join(train_labels)))\n",
        "    vocabulary_dict = {char: index for index, char in enumerate(vocabulary)}\n",
        "    return vocabulary_dict"
      ]
    },
    {
      "cell_type": "code",
      "execution_count": 76,
      "metadata": {
        "id": "whiDXvxpmT59"
      },
      "outputs": [],
      "source": [
        "vocabulary = get_vocabulary(train_labels)\n",
        "train_labels_preprocessed, max_sequence_length = label_preprocessing(train_labels, vocabulary)"
      ]
    },
    {
      "cell_type": "markdown",
      "metadata": {
        "id": "AWc21-wU65aw"
      },
      "source": [
        "## Metric Functions"
      ]
    },
    {
      "cell_type": "code",
      "execution_count": 60,
      "metadata": {
        "id": "2Sz5B-EQ65aw"
      },
      "outputs": [],
      "source": [
        "def word_error_rate(y_true, y_pred):\n",
        "    \"\"\"\n",
        "    returns calculation of Word Error Rate for a prediction.\n",
        "    \"\"\"\n",
        "    wer_value = wer(y_true, y_pred)\n",
        "    return wer_value\n",
        "\n",
        "def character_error_rate(y_true, y_pred):\n",
        "    \"\"\"\n",
        "    returns calculation of Character Error Rate for a prediction.\n",
        "    \"\"\"\n",
        "    matcher = difflib.SequenceMatcher(None, y_true, y_pred)\n",
        "    cer_value = 1 - matcher.ratio()\n",
        "    return cer_value"
      ]
    },
    {
      "cell_type": "markdown",
      "metadata": {
        "id": "1uB04KDyh-ZJ"
      },
      "source": [
        "# Donut Model fine-tuning"
      ]
    },
    {
      "cell_type": "code",
      "source": [
        "!pip install transformers\n",
        "!pip install sentencepiece\n",
        "!pip install datasets"
      ],
      "metadata": {
        "colab": {
          "base_uri": "https://localhost:8080/"
        },
        "id": "vL-ianKFJLbA",
        "outputId": "fcb82d9a-6eb8-45c5-8543-1aa23538d6a9"
      },
      "execution_count": 4,
      "outputs": [
        {
          "output_type": "stream",
          "name": "stdout",
          "text": [
            "Collecting transformers\n",
            "  Downloading transformers-4.30.2-py3-none-any.whl (7.2 MB)\n",
            "\u001b[2K     \u001b[90m━━━━━━━━━━━━━━━━━━━━━━━━━━━━━━━━━━━━━━━━\u001b[0m \u001b[32m7.2/7.2 MB\u001b[0m \u001b[31m45.0 MB/s\u001b[0m eta \u001b[36m0:00:00\u001b[0m\n",
            "\u001b[?25hRequirement already satisfied: filelock in /usr/local/lib/python3.10/dist-packages (from transformers) (3.12.2)\n",
            "Collecting huggingface-hub<1.0,>=0.14.1 (from transformers)\n",
            "  Downloading huggingface_hub-0.16.2-py3-none-any.whl (268 kB)\n",
            "\u001b[2K     \u001b[90m━━━━━━━━━━━━━━━━━━━━━━━━━━━━━━━━━━━━━━\u001b[0m \u001b[32m268.5/268.5 kB\u001b[0m \u001b[31m19.9 MB/s\u001b[0m eta \u001b[36m0:00:00\u001b[0m\n",
            "\u001b[?25hRequirement already satisfied: numpy>=1.17 in /usr/local/lib/python3.10/dist-packages (from transformers) (1.22.4)\n",
            "Requirement already satisfied: packaging>=20.0 in /usr/local/lib/python3.10/dist-packages (from transformers) (23.1)\n",
            "Requirement already satisfied: pyyaml>=5.1 in /usr/local/lib/python3.10/dist-packages (from transformers) (6.0)\n",
            "Requirement already satisfied: regex!=2019.12.17 in /usr/local/lib/python3.10/dist-packages (from transformers) (2022.10.31)\n",
            "Requirement already satisfied: requests in /usr/local/lib/python3.10/dist-packages (from transformers) (2.27.1)\n",
            "Collecting tokenizers!=0.11.3,<0.14,>=0.11.1 (from transformers)\n",
            "  Downloading tokenizers-0.13.3-cp310-cp310-manylinux_2_17_x86_64.manylinux2014_x86_64.whl (7.8 MB)\n",
            "\u001b[2K     \u001b[90m━━━━━━━━━━━━━━━━━━━━━━━━━━━━━━━━━━━━━━━━\u001b[0m \u001b[32m7.8/7.8 MB\u001b[0m \u001b[31m74.3 MB/s\u001b[0m eta \u001b[36m0:00:00\u001b[0m\n",
            "\u001b[?25hCollecting safetensors>=0.3.1 (from transformers)\n",
            "  Downloading safetensors-0.3.1-cp310-cp310-manylinux_2_17_x86_64.manylinux2014_x86_64.whl (1.3 MB)\n",
            "\u001b[2K     \u001b[90m━━━━━━━━━━━━━━━━━━━━━━━━━━━━━━━━━━━━━━━━\u001b[0m \u001b[32m1.3/1.3 MB\u001b[0m \u001b[31m58.5 MB/s\u001b[0m eta \u001b[36m0:00:00\u001b[0m\n",
            "\u001b[?25hRequirement already satisfied: tqdm>=4.27 in /usr/local/lib/python3.10/dist-packages (from transformers) (4.65.0)\n",
            "Requirement already satisfied: fsspec in /usr/local/lib/python3.10/dist-packages (from huggingface-hub<1.0,>=0.14.1->transformers) (2023.6.0)\n",
            "Requirement already satisfied: typing-extensions>=3.7.4.3 in /usr/local/lib/python3.10/dist-packages (from huggingface-hub<1.0,>=0.14.1->transformers) (4.6.3)\n",
            "Requirement already satisfied: urllib3<1.27,>=1.21.1 in /usr/local/lib/python3.10/dist-packages (from requests->transformers) (1.26.16)\n",
            "Requirement already satisfied: certifi>=2017.4.17 in /usr/local/lib/python3.10/dist-packages (from requests->transformers) (2023.5.7)\n",
            "Requirement already satisfied: charset-normalizer~=2.0.0 in /usr/local/lib/python3.10/dist-packages (from requests->transformers) (2.0.12)\n",
            "Requirement already satisfied: idna<4,>=2.5 in /usr/local/lib/python3.10/dist-packages (from requests->transformers) (3.4)\n",
            "Installing collected packages: tokenizers, safetensors, huggingface-hub, transformers\n",
            "Successfully installed huggingface-hub-0.16.2 safetensors-0.3.1 tokenizers-0.13.3 transformers-4.30.2\n",
            "Requirement already satisfied: sentencepiece in /usr/local/lib/python3.10/dist-packages (0.1.99)\n"
          ]
        }
      ]
    },
    {
      "cell_type": "code",
      "source": [],
      "metadata": {
        "colab": {
          "base_uri": "https://localhost:8080/",
          "height": 145
        },
        "id": "w9GKJh5ERn5e",
        "outputId": "80bf83ef-4c9c-47d7-bf72-b7c32d42c5fa"
      },
      "execution_count": 68,
      "outputs": [
        {
          "output_type": "stream",
          "name": "stdout",
          "text": [
            "<class 'PIL.Image.Image'>\n"
          ]
        },
        {
          "output_type": "display_data",
          "data": {
            "text/plain": [
              "<Figure size 640x480 with 1 Axes>"
            ],
            "image/png": "[encoded data removed]"
          },
          "metadata": {}
        }
      ]
    },
    {
      "cell_type": "code",
      "source": [
        "import re\n",
        "\n",
        "from transformers import DonutProcessor, VisionEncoderDecoderModel\n",
        "import torch\n",
        "import sentencepiece\n",
        "# irrelevant:\n",
        "from datasets import load_dataset\n",
        "\n",
        "\n",
        "processor = DonutProcessor.from_pretrained(\"naver-clova-ix/donut-base-finetuned-cord-v2\")\n",
        "model = VisionEncoderDecoderModel.from_pretrained(\"naver-clova-ix/donut-base-finetuned-cord-v2\",)\n",
        "\n",
        "device = \"cuda\" if torch.cuda.is_available() else \"cpu\"\n",
        "model.to(device)\n",
        "\n",
        "# prepare decoder inputs\n",
        "task_prompt = \"<s_cord-v2>\"\n",
        "decoder_input_ids = processor.tokenizer(task_prompt, add_special_tokens=False, return_tensors=\"pt\").input_ids"
      ],
      "metadata": {
        "colab": {
          "base_uri": "https://localhost:8080/"
        },
        "id": "Uol8V-oxGqku",
        "outputId": "ac63a9a3-3253-4bb2-d1f2-6346ba5bbf39"
      },
      "execution_count": 58,
      "outputs": [
        {
          "output_type": "stream",
          "name": "stderr",
          "text": [
            "Could not find image processor class in the image processor config or the model config. Loading based on pattern matching with the model's feature extractor configuration.\n"
          ]
        },
        {
          "output_type": "stream",
          "name": "stdout",
          "text": [
            "ok\n"
          ]
        }
      ]
    },
    {
      "cell_type": "code",
      "source": [
        "# A TEST FROM THE ORIGINAL CODE:\n",
        "# from datasets import load_dataset\n",
        "# dataset = load_dataset(\"hf-internal-testing/example-documents\", split=\"test\")\n",
        "# image = dataset[2][\"image\"]\n",
        "\n",
        "# OUR CODE:\n",
        "folder_path = '/content/test_bw'  # Replace 'folder_name' with the actual folder name\n",
        "\n",
        "images = []\n",
        "for file_name in os.listdir(folder_path):\n",
        "  image_path = os.path.join(folder_path, file_name)\n",
        "  image = Image.open(image_path).convert(\"RGB\")\n",
        "  images.append(image)\n",
        "\n",
        "# test\n",
        "image = images[2]\n",
        "print(type(image))\n",
        "plt.imshow(image)\n",
        "plt.show()\n",
        "\n",
        "\n"
      ],
      "metadata": {
        "id": "VCQiuyyNd0tz"
      },
      "execution_count": null,
      "outputs": []
    },
    {
      "cell_type": "code",
      "source": [
        "predictions = list()\n",
        "pattern = r\">(.*?)<\"\n",
        "\n",
        "\n",
        "for idx, image in enumerate(images):\n",
        "  pixel_values = processor(image, return_tensors=\"pt\").pixel_values\n",
        "\n",
        "\n",
        "  outputs = model.generate(\n",
        "      pixel_values.to(device),\n",
        "      decoder_input_ids=decoder_input_ids.to(device),\n",
        "      max_length=model.decoder.config.max_position_embeddings,\n",
        "      early_stopping=True,\n",
        "      pad_token_id=processor.tokenizer.pad_token_id,\n",
        "      eos_token_id=processor.tokenizer.eos_token_id,\n",
        "      use_cache=True,\n",
        "      num_beams=1,\n",
        "      bad_words_ids=[[processor.tokenizer.unk_token_id]],\n",
        "      return_dict_in_generate=True,\n",
        "      )\n",
        "\n",
        "  sequence = processor.batch_decode(outputs.sequences)[0]\n",
        "  sequence = sequence.replace(processor.tokenizer.eos_token, \"\").replace(processor.tokenizer.pad_token, \"\")\n",
        "  sequence = re.sub(r\"<.*?>\", \"\", sequence, count=1).strip()  # remove first task start token\n",
        "  print(sequence)\n",
        "  # print(processor.token2json(sequence))\n",
        "\n",
        "  # my modifications :\n",
        "  sentence = re.findall(pattern, sequence)\n",
        "\n",
        "  print(f\"Image {idx} predict: {sentence}\")\n",
        "  predictions.append(sentence)\n",
        "  break\n",
        "\n"
      ],
      "metadata": {
        "colab": {
          "base_uri": "https://localhost:8080/"
        },
        "id": "POtvnIsFNEMw",
        "outputId": "70f1f1b5-1074-4f3d-a69a-7f1246fe7ecb"
      },
      "execution_count": 89,
      "outputs": [
        {
          "output_type": "stream",
          "name": "stdout",
          "text": [
            "<s_menu><s_nm> short periods over the years same of the Londons</s_changeprice></s_total>\n",
            "Image 0 predict: ['', ' short periods over the years same of the Londons', '']\n"
          ]
        }
      ]
    },
    {
      "cell_type": "code",
      "source": [
        "predictions"
      ],
      "metadata": {
        "colab": {
          "base_uri": "https://localhost:8080/"
        },
        "id": "ei1C6bO0XoZh",
        "outputId": "1e9d56b4-7ef4-42ed-caa6-6eec48ed0cae"
      },
      "execution_count": 82,
      "outputs": [
        {
          "output_type": "execute_result",
          "data": {
            "text/plain": [
              "[' short periods over the years same of the Londons</s_changeprice></s_total>',\n",
              " ' a omall oreek whur Le watered</s_total>',\n",
              " ' HS most Sentimeator form. White Le bireat</s_total>',\n",
              " ' to the memory of - are seen',\n",
              " ' Suggested to the congregation thot [t need eo',\n",
              " ' coold not help woudering whith,, now she</s_total>']"
            ]
          },
          "metadata": {},
          "execution_count": 82
        }
      ]
    },
    {
      "cell_type": "markdown",
      "metadata": {
        "id": "vV67t8To65ay"
      },
      "source": [
        "## Prediction"
      ]
    },
    {
      "cell_type": "code",
      "execution_count": 78,
      "metadata": {
        "colab": {
          "base_uri": "https://localhost:8080/"
        },
        "id": "ZW895gSh65ay",
        "outputId": "e599a8e1-6bd3-46ae-f0ec-a0513b3cea47"
      },
      "outputs": [
        {
          "output_type": "stream",
          "name": "stdout",
          "text": [
            "CER mean:  0.008279569892473117\n",
            "WER mean:  0.01\n"
          ]
        }
      ],
      "source": [
        "index_to_char = {v: k for k, v in vocabulary.items()}\n",
        "cer_sum = 0\n",
        "wer_sum = 0\n",
        "\n",
        "for i, sentence in enumerate(predictions):\n",
        "    cer_sum += character_error_rate(test_labels[i], sentence)\n",
        "    wer_sum += word_error_rate(test_labels[i], sentence)\n",
        "\n",
        "print('CER mean: ', cer_sum / len(test_labels))\n",
        "print('WER mean: ', wer_sum / len(test_labels))"
      ]
    },
    {
      "cell_type": "code",
      "execution_count": null,
      "metadata": {
        "id": "gX_wKB4oSUvq"
      },
      "outputs": [],
      "source": []
    }
  ],
  "metadata": {
    "accelerator": "GPU",
    "colab": {
      "gpuType": "T4",
      "provenance": []
    },
    "kernelspec": {
      "display_name": "Python 3 (ipykernel)",
      "language": "python",
      "name": "python3"
    },
    "language_info": {
      "codemirror_mode": {
        "name": "ipython",
        "version": 3
      },
      "file_extension": ".py",
      "mimetype": "text/x-python",
      "name": "python",
      "nbconvert_exporter": "python",
      "pygments_lexer": "ipython3",
      "version": "3.9.13"
    },
    "toc": {
      "base_numbering": 1,
      "nav_menu": {},
      "number_sections": true,
      "sideBar": true,
      "skip_h1_title": false,
      "title_cell": "Table of Contents",
      "title_sidebar": "Contents",
      "toc_cell": false,
      "toc_position": {},
      "toc_section_display": true,
      "toc_window_display": false
    }
  },
  "nbformat": 4,
  "nbformat_minor": 0
}